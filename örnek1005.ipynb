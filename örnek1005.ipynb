{
 "cells": [
  {
   "cell_type": "code",
   "execution_count": 6,
   "id": "34a51dd1",
   "metadata": {},
   "outputs": [],
   "source": [
    "import pandas as pd\n",
    "import numpy as np\n",
    "import seaborn as sns\n",
    "import matplotlib.pyplot as plt"
   ]
  },
  {
   "cell_type": "code",
   "execution_count": 7,
   "id": "cff76d55",
   "metadata": {},
   "outputs": [
    {
     "data": {
      "text/plain": [
       "'import tensorflow as tf'"
      ]
     },
     "execution_count": 7,
     "metadata": {},
     "output_type": "execute_result"
    }
   ],
   "source": [
    "'''import tensorflow as tf'''"
   ]
  },
  {
   "cell_type": "code",
   "execution_count": 8,
   "id": "df72338c",
   "metadata": {},
   "outputs": [
    {
     "data": {
      "text/plain": [
       "'tf.test.gpu_device_name()\\nprint(tf.config.list_physical_devices())'"
      ]
     },
     "execution_count": 8,
     "metadata": {},
     "output_type": "execute_result"
    }
   ],
   "source": [
    "'''tf.test.gpu_device_name()\n",
    "print(tf.config.list_physical_devices())'''"
   ]
  },
  {
   "cell_type": "code",
   "execution_count": 9,
   "id": "d237ce76",
   "metadata": {},
   "outputs": [
    {
     "ename": "FileNotFoundError",
     "evalue": "[Errno 2] No such file or directory: '41.094064, 29.0... 2017-01-01 to 2017-12-31 (2) (1).csv'",
     "output_type": "error",
     "traceback": [
      "\u001b[1;31m---------------------------------------------------------------------------\u001b[0m",
      "\u001b[1;31mFileNotFoundError\u001b[0m                         Traceback (most recent call last)",
      "\u001b[1;32m<ipython-input-9-4e5ed54d5261>\u001b[0m in \u001b[0;36m<module>\u001b[1;34m\u001b[0m\n\u001b[0;32m      1\u001b[0m \u001b[0mdf1\u001b[0m \u001b[1;33m=\u001b[0m \u001b[0mpd\u001b[0m\u001b[1;33m.\u001b[0m\u001b[0mread_csv\u001b[0m\u001b[1;33m(\u001b[0m\u001b[1;34m'2017.csv'\u001b[0m\u001b[1;33m)\u001b[0m\u001b[1;33m\u001b[0m\u001b[1;33m\u001b[0m\u001b[0m\n\u001b[1;32m----> 2\u001b[1;33m \u001b[0mdf2\u001b[0m \u001b[1;33m=\u001b[0m \u001b[0mpd\u001b[0m\u001b[1;33m.\u001b[0m\u001b[0mread_csv\u001b[0m\u001b[1;33m(\u001b[0m\u001b[1;34m'41.094064, 29.0... 2017-01-01 to 2017-12-31 (2) (1).csv'\u001b[0m\u001b[1;33m)\u001b[0m\u001b[1;33m\u001b[0m\u001b[1;33m\u001b[0m\u001b[0m\n\u001b[0m",
      "\u001b[1;32m~\\anaconda3\\lib\\site-packages\\pandas\\io\\parsers.py\u001b[0m in \u001b[0;36mread_csv\u001b[1;34m(filepath_or_buffer, sep, delimiter, header, names, index_col, usecols, squeeze, prefix, mangle_dupe_cols, dtype, engine, converters, true_values, false_values, skipinitialspace, skiprows, skipfooter, nrows, na_values, keep_default_na, na_filter, verbose, skip_blank_lines, parse_dates, infer_datetime_format, keep_date_col, date_parser, dayfirst, cache_dates, iterator, chunksize, compression, thousands, decimal, lineterminator, quotechar, quoting, doublequote, escapechar, comment, encoding, dialect, error_bad_lines, warn_bad_lines, delim_whitespace, low_memory, memory_map, float_precision, storage_options)\u001b[0m\n\u001b[0;32m    608\u001b[0m     \u001b[0mkwds\u001b[0m\u001b[1;33m.\u001b[0m\u001b[0mupdate\u001b[0m\u001b[1;33m(\u001b[0m\u001b[0mkwds_defaults\u001b[0m\u001b[1;33m)\u001b[0m\u001b[1;33m\u001b[0m\u001b[1;33m\u001b[0m\u001b[0m\n\u001b[0;32m    609\u001b[0m \u001b[1;33m\u001b[0m\u001b[0m\n\u001b[1;32m--> 610\u001b[1;33m     \u001b[1;32mreturn\u001b[0m \u001b[0m_read\u001b[0m\u001b[1;33m(\u001b[0m\u001b[0mfilepath_or_buffer\u001b[0m\u001b[1;33m,\u001b[0m \u001b[0mkwds\u001b[0m\u001b[1;33m)\u001b[0m\u001b[1;33m\u001b[0m\u001b[1;33m\u001b[0m\u001b[0m\n\u001b[0m\u001b[0;32m    611\u001b[0m \u001b[1;33m\u001b[0m\u001b[0m\n\u001b[0;32m    612\u001b[0m \u001b[1;33m\u001b[0m\u001b[0m\n",
      "\u001b[1;32m~\\anaconda3\\lib\\site-packages\\pandas\\io\\parsers.py\u001b[0m in \u001b[0;36m_read\u001b[1;34m(filepath_or_buffer, kwds)\u001b[0m\n\u001b[0;32m    460\u001b[0m \u001b[1;33m\u001b[0m\u001b[0m\n\u001b[0;32m    461\u001b[0m     \u001b[1;31m# Create the parser.\u001b[0m\u001b[1;33m\u001b[0m\u001b[1;33m\u001b[0m\u001b[1;33m\u001b[0m\u001b[0m\n\u001b[1;32m--> 462\u001b[1;33m     \u001b[0mparser\u001b[0m \u001b[1;33m=\u001b[0m \u001b[0mTextFileReader\u001b[0m\u001b[1;33m(\u001b[0m\u001b[0mfilepath_or_buffer\u001b[0m\u001b[1;33m,\u001b[0m \u001b[1;33m**\u001b[0m\u001b[0mkwds\u001b[0m\u001b[1;33m)\u001b[0m\u001b[1;33m\u001b[0m\u001b[1;33m\u001b[0m\u001b[0m\n\u001b[0m\u001b[0;32m    463\u001b[0m \u001b[1;33m\u001b[0m\u001b[0m\n\u001b[0;32m    464\u001b[0m     \u001b[1;32mif\u001b[0m \u001b[0mchunksize\u001b[0m \u001b[1;32mor\u001b[0m \u001b[0miterator\u001b[0m\u001b[1;33m:\u001b[0m\u001b[1;33m\u001b[0m\u001b[1;33m\u001b[0m\u001b[0m\n",
      "\u001b[1;32m~\\anaconda3\\lib\\site-packages\\pandas\\io\\parsers.py\u001b[0m in \u001b[0;36m__init__\u001b[1;34m(self, f, engine, **kwds)\u001b[0m\n\u001b[0;32m    817\u001b[0m             \u001b[0mself\u001b[0m\u001b[1;33m.\u001b[0m\u001b[0moptions\u001b[0m\u001b[1;33m[\u001b[0m\u001b[1;34m\"has_index_names\"\u001b[0m\u001b[1;33m]\u001b[0m \u001b[1;33m=\u001b[0m \u001b[0mkwds\u001b[0m\u001b[1;33m[\u001b[0m\u001b[1;34m\"has_index_names\"\u001b[0m\u001b[1;33m]\u001b[0m\u001b[1;33m\u001b[0m\u001b[1;33m\u001b[0m\u001b[0m\n\u001b[0;32m    818\u001b[0m \u001b[1;33m\u001b[0m\u001b[0m\n\u001b[1;32m--> 819\u001b[1;33m         \u001b[0mself\u001b[0m\u001b[1;33m.\u001b[0m\u001b[0m_engine\u001b[0m \u001b[1;33m=\u001b[0m \u001b[0mself\u001b[0m\u001b[1;33m.\u001b[0m\u001b[0m_make_engine\u001b[0m\u001b[1;33m(\u001b[0m\u001b[0mself\u001b[0m\u001b[1;33m.\u001b[0m\u001b[0mengine\u001b[0m\u001b[1;33m)\u001b[0m\u001b[1;33m\u001b[0m\u001b[1;33m\u001b[0m\u001b[0m\n\u001b[0m\u001b[0;32m    820\u001b[0m \u001b[1;33m\u001b[0m\u001b[0m\n\u001b[0;32m    821\u001b[0m     \u001b[1;32mdef\u001b[0m \u001b[0mclose\u001b[0m\u001b[1;33m(\u001b[0m\u001b[0mself\u001b[0m\u001b[1;33m)\u001b[0m\u001b[1;33m:\u001b[0m\u001b[1;33m\u001b[0m\u001b[1;33m\u001b[0m\u001b[0m\n",
      "\u001b[1;32m~\\anaconda3\\lib\\site-packages\\pandas\\io\\parsers.py\u001b[0m in \u001b[0;36m_make_engine\u001b[1;34m(self, engine)\u001b[0m\n\u001b[0;32m   1048\u001b[0m             )\n\u001b[0;32m   1049\u001b[0m         \u001b[1;31m# error: Too many arguments for \"ParserBase\"\u001b[0m\u001b[1;33m\u001b[0m\u001b[1;33m\u001b[0m\u001b[1;33m\u001b[0m\u001b[0m\n\u001b[1;32m-> 1050\u001b[1;33m         \u001b[1;32mreturn\u001b[0m \u001b[0mmapping\u001b[0m\u001b[1;33m[\u001b[0m\u001b[0mengine\u001b[0m\u001b[1;33m]\u001b[0m\u001b[1;33m(\u001b[0m\u001b[0mself\u001b[0m\u001b[1;33m.\u001b[0m\u001b[0mf\u001b[0m\u001b[1;33m,\u001b[0m \u001b[1;33m**\u001b[0m\u001b[0mself\u001b[0m\u001b[1;33m.\u001b[0m\u001b[0moptions\u001b[0m\u001b[1;33m)\u001b[0m  \u001b[1;31m# type: ignore[call-arg]\u001b[0m\u001b[1;33m\u001b[0m\u001b[1;33m\u001b[0m\u001b[0m\n\u001b[0m\u001b[0;32m   1051\u001b[0m \u001b[1;33m\u001b[0m\u001b[0m\n\u001b[0;32m   1052\u001b[0m     \u001b[1;32mdef\u001b[0m \u001b[0m_failover_to_python\u001b[0m\u001b[1;33m(\u001b[0m\u001b[0mself\u001b[0m\u001b[1;33m)\u001b[0m\u001b[1;33m:\u001b[0m\u001b[1;33m\u001b[0m\u001b[1;33m\u001b[0m\u001b[0m\n",
      "\u001b[1;32m~\\anaconda3\\lib\\site-packages\\pandas\\io\\parsers.py\u001b[0m in \u001b[0;36m__init__\u001b[1;34m(self, src, **kwds)\u001b[0m\n\u001b[0;32m   1865\u001b[0m \u001b[1;33m\u001b[0m\u001b[0m\n\u001b[0;32m   1866\u001b[0m         \u001b[1;31m# open handles\u001b[0m\u001b[1;33m\u001b[0m\u001b[1;33m\u001b[0m\u001b[1;33m\u001b[0m\u001b[0m\n\u001b[1;32m-> 1867\u001b[1;33m         \u001b[0mself\u001b[0m\u001b[1;33m.\u001b[0m\u001b[0m_open_handles\u001b[0m\u001b[1;33m(\u001b[0m\u001b[0msrc\u001b[0m\u001b[1;33m,\u001b[0m \u001b[0mkwds\u001b[0m\u001b[1;33m)\u001b[0m\u001b[1;33m\u001b[0m\u001b[1;33m\u001b[0m\u001b[0m\n\u001b[0m\u001b[0;32m   1868\u001b[0m         \u001b[1;32massert\u001b[0m \u001b[0mself\u001b[0m\u001b[1;33m.\u001b[0m\u001b[0mhandles\u001b[0m \u001b[1;32mis\u001b[0m \u001b[1;32mnot\u001b[0m \u001b[1;32mNone\u001b[0m\u001b[1;33m\u001b[0m\u001b[1;33m\u001b[0m\u001b[0m\n\u001b[0;32m   1869\u001b[0m         \u001b[1;32mfor\u001b[0m \u001b[0mkey\u001b[0m \u001b[1;32min\u001b[0m \u001b[1;33m(\u001b[0m\u001b[1;34m\"storage_options\"\u001b[0m\u001b[1;33m,\u001b[0m \u001b[1;34m\"encoding\"\u001b[0m\u001b[1;33m,\u001b[0m \u001b[1;34m\"memory_map\"\u001b[0m\u001b[1;33m,\u001b[0m \u001b[1;34m\"compression\"\u001b[0m\u001b[1;33m)\u001b[0m\u001b[1;33m:\u001b[0m\u001b[1;33m\u001b[0m\u001b[1;33m\u001b[0m\u001b[0m\n",
      "\u001b[1;32m~\\anaconda3\\lib\\site-packages\\pandas\\io\\parsers.py\u001b[0m in \u001b[0;36m_open_handles\u001b[1;34m(self, src, kwds)\u001b[0m\n\u001b[0;32m   1360\u001b[0m         \u001b[0mLet\u001b[0m \u001b[0mthe\u001b[0m \u001b[0mreaders\u001b[0m \u001b[0mopen\u001b[0m \u001b[0mIOHanldes\u001b[0m \u001b[0mafter\u001b[0m \u001b[0mthey\u001b[0m \u001b[0mare\u001b[0m \u001b[0mdone\u001b[0m \u001b[1;32mwith\u001b[0m \u001b[0mtheir\u001b[0m \u001b[0mpotential\u001b[0m \u001b[0mraises\u001b[0m\u001b[1;33m.\u001b[0m\u001b[1;33m\u001b[0m\u001b[1;33m\u001b[0m\u001b[0m\n\u001b[0;32m   1361\u001b[0m         \"\"\"\n\u001b[1;32m-> 1362\u001b[1;33m         self.handles = get_handle(\n\u001b[0m\u001b[0;32m   1363\u001b[0m             \u001b[0msrc\u001b[0m\u001b[1;33m,\u001b[0m\u001b[1;33m\u001b[0m\u001b[1;33m\u001b[0m\u001b[0m\n\u001b[0;32m   1364\u001b[0m             \u001b[1;34m\"r\"\u001b[0m\u001b[1;33m,\u001b[0m\u001b[1;33m\u001b[0m\u001b[1;33m\u001b[0m\u001b[0m\n",
      "\u001b[1;32m~\\anaconda3\\lib\\site-packages\\pandas\\io\\common.py\u001b[0m in \u001b[0;36mget_handle\u001b[1;34m(path_or_buf, mode, encoding, compression, memory_map, is_text, errors, storage_options)\u001b[0m\n\u001b[0;32m    640\u001b[0m                 \u001b[0merrors\u001b[0m \u001b[1;33m=\u001b[0m \u001b[1;34m\"replace\"\u001b[0m\u001b[1;33m\u001b[0m\u001b[1;33m\u001b[0m\u001b[0m\n\u001b[0;32m    641\u001b[0m             \u001b[1;31m# Encoding\u001b[0m\u001b[1;33m\u001b[0m\u001b[1;33m\u001b[0m\u001b[1;33m\u001b[0m\u001b[0m\n\u001b[1;32m--> 642\u001b[1;33m             handle = open(\n\u001b[0m\u001b[0;32m    643\u001b[0m                 \u001b[0mhandle\u001b[0m\u001b[1;33m,\u001b[0m\u001b[1;33m\u001b[0m\u001b[1;33m\u001b[0m\u001b[0m\n\u001b[0;32m    644\u001b[0m                 \u001b[0mioargs\u001b[0m\u001b[1;33m.\u001b[0m\u001b[0mmode\u001b[0m\u001b[1;33m,\u001b[0m\u001b[1;33m\u001b[0m\u001b[1;33m\u001b[0m\u001b[0m\n",
      "\u001b[1;31mFileNotFoundError\u001b[0m: [Errno 2] No such file or directory: '41.094064, 29.0... 2017-01-01 to 2017-12-31 (2) (1).csv'"
     ]
    }
   ],
   "source": [
    "df1 = pd.read_csv('2017.csv')\n",
    "df2 = pd.read_csv('41.094064, 29.0... 2017-01-01 to 2017-12-31 (2) (1).csv')"
   ]
  },
  {
   "cell_type": "code",
   "execution_count": null,
   "id": "0abdd182",
   "metadata": {},
   "outputs": [],
   "source": [
    "df2 = df2.cloudcover"
   ]
  },
  {
   "cell_type": "code",
   "execution_count": null,
   "id": "e8c6a30a",
   "metadata": {},
   "outputs": [],
   "source": [
    "df = pd.concat([df1, df2], axis= 1)"
   ]
  },
  {
   "cell_type": "code",
   "execution_count": null,
   "id": "b4357805",
   "metadata": {},
   "outputs": [],
   "source": [
    "df = df.drop('Unnamed: 23', 1)"
   ]
  },
  {
   "cell_type": "code",
   "execution_count": null,
   "id": "0de7952d",
   "metadata": {},
   "outputs": [],
   "source": [
    "df = df_no_zero = df.loc[df['DHI']!= 0 ]\n",
    "assert len(df_no_zero['DHI'])==len(df_no_zero['GHI']), \"Some DHI 0s where GHI is not 0\"\n",
    "df['DHI_log'] = np.log(df['DHI'])\n",
    "df['GHI_log'] = np.log(df['GHI'])\n",
    "df['cloud_cover_log'] = np.log(df['cloudcover']+0.0000001)"
   ]
  },
  {
   "cell_type": "code",
   "execution_count": null,
   "id": "308e1979",
   "metadata": {},
   "outputs": [
    {
     "data": {
      "text/plain": [
       "(4329, 27)"
      ]
     },
     "execution_count": 84,
     "metadata": {},
     "output_type": "execute_result"
    }
   ],
   "source": [
    "df.shape"
   ]
  },
  {
   "cell_type": "code",
   "execution_count": null,
   "id": "78df674e",
   "metadata": {},
   "outputs": [
    {
     "data": {
      "text/html": [
       "<div>\n",
       "<style scoped>\n",
       "    .dataframe tbody tr th:only-of-type {\n",
       "        vertical-align: middle;\n",
       "    }\n",
       "\n",
       "    .dataframe tbody tr th {\n",
       "        vertical-align: top;\n",
       "    }\n",
       "\n",
       "    .dataframe thead th {\n",
       "        text-align: right;\n",
       "    }\n",
       "</style>\n",
       "<table border=\"1\" class=\"dataframe\">\n",
       "  <thead>\n",
       "    <tr style=\"text-align: right;\">\n",
       "      <th></th>\n",
       "      <th>Year</th>\n",
       "      <th>Month</th>\n",
       "      <th>Day</th>\n",
       "      <th>Hour</th>\n",
       "      <th>Minute</th>\n",
       "      <th>Temperature</th>\n",
       "      <th>Clearsky DHI</th>\n",
       "      <th>Clearsky DNI</th>\n",
       "      <th>Clearsky GHI</th>\n",
       "      <th>Cloud Type</th>\n",
       "      <th>...</th>\n",
       "      <th>Solar Zenith Angle</th>\n",
       "      <th>Surface Albedo</th>\n",
       "      <th>Pressure</th>\n",
       "      <th>Precipitable Water</th>\n",
       "      <th>Wind Direction</th>\n",
       "      <th>Wind Speed</th>\n",
       "      <th>cloudcover</th>\n",
       "      <th>DHI_log</th>\n",
       "      <th>GHI_log</th>\n",
       "      <th>cloud_cover_log</th>\n",
       "    </tr>\n",
       "  </thead>\n",
       "  <tbody>\n",
       "    <tr>\n",
       "      <th>count</th>\n",
       "      <td>4329.0</td>\n",
       "      <td>4329.000000</td>\n",
       "      <td>4329.000000</td>\n",
       "      <td>4329.000000</td>\n",
       "      <td>4329.0</td>\n",
       "      <td>4329.000000</td>\n",
       "      <td>4329.000000</td>\n",
       "      <td>4329.000000</td>\n",
       "      <td>4329.000000</td>\n",
       "      <td>4329.000000</td>\n",
       "      <td>...</td>\n",
       "      <td>4329.000000</td>\n",
       "      <td>4329.000000</td>\n",
       "      <td>4329.000000</td>\n",
       "      <td>4329.000000</td>\n",
       "      <td>4329.000000</td>\n",
       "      <td>4329.000000</td>\n",
       "      <td>4329.000000</td>\n",
       "      <td>4329.000000</td>\n",
       "      <td>4329.000000</td>\n",
       "      <td>4329.000000</td>\n",
       "    </tr>\n",
       "    <tr>\n",
       "      <th>mean</th>\n",
       "      <td>2017.0</td>\n",
       "      <td>6.435435</td>\n",
       "      <td>15.769231</td>\n",
       "      <td>9.573574</td>\n",
       "      <td>30.0</td>\n",
       "      <td>17.209610</td>\n",
       "      <td>116.100023</td>\n",
       "      <td>599.567337</td>\n",
       "      <td>456.863479</td>\n",
       "      <td>2.353892</td>\n",
       "      <td>...</td>\n",
       "      <td>59.037147</td>\n",
       "      <td>0.160973</td>\n",
       "      <td>1012.705706</td>\n",
       "      <td>2.062809</td>\n",
       "      <td>136.225225</td>\n",
       "      <td>3.376738</td>\n",
       "      <td>45.354655</td>\n",
       "      <td>4.388297</td>\n",
       "      <td>5.100837</td>\n",
       "      <td>0.041466</td>\n",
       "    </tr>\n",
       "    <tr>\n",
       "      <th>std</th>\n",
       "      <td>0.0</td>\n",
       "      <td>3.194634</td>\n",
       "      <td>8.796640</td>\n",
       "      <td>3.566014</td>\n",
       "      <td>0.0</td>\n",
       "      <td>7.480998</td>\n",
       "      <td>57.491178</td>\n",
       "      <td>235.327490</td>\n",
       "      <td>275.317986</td>\n",
       "      <td>2.606415</td>\n",
       "      <td>...</td>\n",
       "      <td>18.535605</td>\n",
       "      <td>0.138586</td>\n",
       "      <td>5.729360</td>\n",
       "      <td>0.868890</td>\n",
       "      <td>108.871485</td>\n",
       "      <td>1.704461</td>\n",
       "      <td>36.200309</td>\n",
       "      <td>1.047639</td>\n",
       "      <td>1.448784</td>\n",
       "      <td>7.627138</td>\n",
       "    </tr>\n",
       "    <tr>\n",
       "      <th>min</th>\n",
       "      <td>2017.0</td>\n",
       "      <td>1.000000</td>\n",
       "      <td>1.000000</td>\n",
       "      <td>3.000000</td>\n",
       "      <td>30.0</td>\n",
       "      <td>-2.900000</td>\n",
       "      <td>2.000000</td>\n",
       "      <td>0.000000</td>\n",
       "      <td>2.000000</td>\n",
       "      <td>0.000000</td>\n",
       "      <td>...</td>\n",
       "      <td>18.380000</td>\n",
       "      <td>0.100000</td>\n",
       "      <td>998.000000</td>\n",
       "      <td>0.400000</td>\n",
       "      <td>0.000000</td>\n",
       "      <td>0.400000</td>\n",
       "      <td>0.000000</td>\n",
       "      <td>0.000000</td>\n",
       "      <td>0.000000</td>\n",
       "      <td>-16.118096</td>\n",
       "    </tr>\n",
       "    <tr>\n",
       "      <th>25%</th>\n",
       "      <td>2017.0</td>\n",
       "      <td>4.000000</td>\n",
       "      <td>8.000000</td>\n",
       "      <td>7.000000</td>\n",
       "      <td>30.0</td>\n",
       "      <td>11.500000</td>\n",
       "      <td>77.000000</td>\n",
       "      <td>461.000000</td>\n",
       "      <td>231.000000</td>\n",
       "      <td>0.000000</td>\n",
       "      <td>...</td>\n",
       "      <td>45.940000</td>\n",
       "      <td>0.120000</td>\n",
       "      <td>1009.000000</td>\n",
       "      <td>1.400000</td>\n",
       "      <td>42.000000</td>\n",
       "      <td>2.000000</td>\n",
       "      <td>2.700000</td>\n",
       "      <td>3.871201</td>\n",
       "      <td>4.143135</td>\n",
       "      <td>0.993252</td>\n",
       "    </tr>\n",
       "    <tr>\n",
       "      <th>50%</th>\n",
       "      <td>2017.0</td>\n",
       "      <td>6.000000</td>\n",
       "      <td>16.000000</td>\n",
       "      <td>10.000000</td>\n",
       "      <td>30.0</td>\n",
       "      <td>17.400000</td>\n",
       "      <td>111.000000</td>\n",
       "      <td>662.000000</td>\n",
       "      <td>441.000000</td>\n",
       "      <td>2.000000</td>\n",
       "      <td>...</td>\n",
       "      <td>61.540000</td>\n",
       "      <td>0.140000</td>\n",
       "      <td>1012.000000</td>\n",
       "      <td>2.000000</td>\n",
       "      <td>80.000000</td>\n",
       "      <td>3.100000</td>\n",
       "      <td>42.800000</td>\n",
       "      <td>4.615121</td>\n",
       "      <td>5.533389</td>\n",
       "      <td>3.756538</td>\n",
       "    </tr>\n",
       "    <tr>\n",
       "      <th>75%</th>\n",
       "      <td>2017.0</td>\n",
       "      <td>9.000000</td>\n",
       "      <td>23.000000</td>\n",
       "      <td>13.000000</td>\n",
       "      <td>30.0</td>\n",
       "      <td>23.800000</td>\n",
       "      <td>148.000000</td>\n",
       "      <td>783.000000</td>\n",
       "      <td>682.000000</td>\n",
       "      <td>4.000000</td>\n",
       "      <td>...</td>\n",
       "      <td>73.310000</td>\n",
       "      <td>0.140000</td>\n",
       "      <td>1016.000000</td>\n",
       "      <td>2.700000</td>\n",
       "      <td>233.000000</td>\n",
       "      <td>4.500000</td>\n",
       "      <td>85.200000</td>\n",
       "      <td>5.081404</td>\n",
       "      <td>6.309918</td>\n",
       "      <td>4.445001</td>\n",
       "    </tr>\n",
       "    <tr>\n",
       "      <th>max</th>\n",
       "      <td>2017.0</td>\n",
       "      <td>12.000000</td>\n",
       "      <td>31.000000</td>\n",
       "      <td>17.000000</td>\n",
       "      <td>30.0</td>\n",
       "      <td>34.200000</td>\n",
       "      <td>414.000000</td>\n",
       "      <td>976.000000</td>\n",
       "      <td>996.000000</td>\n",
       "      <td>12.000000</td>\n",
       "      <td>...</td>\n",
       "      <td>88.990000</td>\n",
       "      <td>0.870000</td>\n",
       "      <td>1031.000000</td>\n",
       "      <td>4.600000</td>\n",
       "      <td>360.000000</td>\n",
       "      <td>9.500000</td>\n",
       "      <td>99.300000</td>\n",
       "      <td>6.159095</td>\n",
       "      <td>6.903747</td>\n",
       "      <td>4.598146</td>\n",
       "    </tr>\n",
       "  </tbody>\n",
       "</table>\n",
       "<p>8 rows × 27 columns</p>\n",
       "</div>"
      ],
      "text/plain": [
       "         Year        Month          Day         Hour  Minute  Temperature  \\\n",
       "count  4329.0  4329.000000  4329.000000  4329.000000  4329.0  4329.000000   \n",
       "mean   2017.0     6.435435    15.769231     9.573574    30.0    17.209610   \n",
       "std       0.0     3.194634     8.796640     3.566014     0.0     7.480998   \n",
       "min    2017.0     1.000000     1.000000     3.000000    30.0    -2.900000   \n",
       "25%    2017.0     4.000000     8.000000     7.000000    30.0    11.500000   \n",
       "50%    2017.0     6.000000    16.000000    10.000000    30.0    17.400000   \n",
       "75%    2017.0     9.000000    23.000000    13.000000    30.0    23.800000   \n",
       "max    2017.0    12.000000    31.000000    17.000000    30.0    34.200000   \n",
       "\n",
       "       Clearsky DHI  Clearsky DNI  Clearsky GHI   Cloud Type  ...  \\\n",
       "count   4329.000000   4329.000000   4329.000000  4329.000000  ...   \n",
       "mean     116.100023    599.567337    456.863479     2.353892  ...   \n",
       "std       57.491178    235.327490    275.317986     2.606415  ...   \n",
       "min        2.000000      0.000000      2.000000     0.000000  ...   \n",
       "25%       77.000000    461.000000    231.000000     0.000000  ...   \n",
       "50%      111.000000    662.000000    441.000000     2.000000  ...   \n",
       "75%      148.000000    783.000000    682.000000     4.000000  ...   \n",
       "max      414.000000    976.000000    996.000000    12.000000  ...   \n",
       "\n",
       "       Solar Zenith Angle  Surface Albedo     Pressure  Precipitable Water  \\\n",
       "count         4329.000000     4329.000000  4329.000000         4329.000000   \n",
       "mean            59.037147        0.160973  1012.705706            2.062809   \n",
       "std             18.535605        0.138586     5.729360            0.868890   \n",
       "min             18.380000        0.100000   998.000000            0.400000   \n",
       "25%             45.940000        0.120000  1009.000000            1.400000   \n",
       "50%             61.540000        0.140000  1012.000000            2.000000   \n",
       "75%             73.310000        0.140000  1016.000000            2.700000   \n",
       "max             88.990000        0.870000  1031.000000            4.600000   \n",
       "\n",
       "       Wind Direction   Wind Speed   cloudcover      DHI_log      GHI_log  \\\n",
       "count     4329.000000  4329.000000  4329.000000  4329.000000  4329.000000   \n",
       "mean       136.225225     3.376738    45.354655     4.388297     5.100837   \n",
       "std        108.871485     1.704461    36.200309     1.047639     1.448784   \n",
       "min          0.000000     0.400000     0.000000     0.000000     0.000000   \n",
       "25%         42.000000     2.000000     2.700000     3.871201     4.143135   \n",
       "50%         80.000000     3.100000    42.800000     4.615121     5.533389   \n",
       "75%        233.000000     4.500000    85.200000     5.081404     6.309918   \n",
       "max        360.000000     9.500000    99.300000     6.159095     6.903747   \n",
       "\n",
       "       cloud_cover_log  \n",
       "count      4329.000000  \n",
       "mean          0.041466  \n",
       "std           7.627138  \n",
       "min         -16.118096  \n",
       "25%           0.993252  \n",
       "50%           3.756538  \n",
       "75%           4.445001  \n",
       "max           4.598146  \n",
       "\n",
       "[8 rows x 27 columns]"
      ]
     },
     "execution_count": 85,
     "metadata": {},
     "output_type": "execute_result"
    }
   ],
   "source": [
    "df.head(n=20)\n"
   ]
  },
  {
   "cell_type": "code",
   "execution_count": null,
   "id": "4921c6f3",
   "metadata": {},
   "outputs": [],
   "source": [
    "df.describe()"
   ]
  },
  {
   "cell_type": "code",
   "execution_count": null,
   "id": "5b9ff3aa",
   "metadata": {},
   "outputs": [
    {
     "data": {
      "text/plain": [
       "Text(0.5, 1.0, 'Missing value in the dataset')"
      ]
     },
     "execution_count": 86,
     "metadata": {},
     "output_type": "execute_result"
    },
    {
     "data": {
      "image/png": "[encoded data removed]",
      "text/plain": [
       "<Figure size 864x288 with 1 Axes>"
      ]
     },
     "metadata": {
      "needs_background": "light"
     },
     "output_type": "display_data"
    }
   ],
   "source": [
    "#Visualize summary of null values.\n",
    "plt.figure(figsize=(12,4))\n",
    "sns.heatmap(df.isnull(),cbar=False,cmap='viridis',yticklabels=False)\n",
    "plt.title('Missing value in the dataset')"
   ]
  },
  {
   "cell_type": "code",
   "execution_count": null,
   "id": "25930393",
   "metadata": {},
   "outputs": [
    {
     "data": {
      "text/plain": [
       "<AxesSubplot:>"
      ]
     },
     "execution_count": 91,
     "metadata": {},
     "output_type": "execute_result"
    },
    {
     "data": {
      "image/png": "[encoded data removed]",
      "text/plain": [
       "<Figure size 576x576 with 1 Axes>"
      ]
     },
     "metadata": {
      "needs_background": "light"
     },
     "output_type": "display_data"
    }
   ],
   "source": [
    "#correlation between columns\n",
    "df.corr()[\"GHI\"].sort_values().plot(kind=\"bar\", figsize=(8,8))"
   ]
  },
  {
   "cell_type": "code",
   "execution_count": null,
   "id": "b4aacf24",
   "metadata": {},
   "outputs": [
    {
     "data": {
      "text/plain": [
       "<AxesSubplot:>"
      ]
     },
     "execution_count": 94,
     "metadata": {},
     "output_type": "execute_result"
    },
    {
     "data": {
      "image/png": "[encoded data removed]",
      "text/plain": [
       "<Figure size 432x288 with 2 Axes>"
      ]
     },
     "metadata": {
      "needs_background": "light"
     },
     "output_type": "display_data"
    }
   ],
   "source": [
    "#Correlation Plot more visualize version.\n",
    "corr = df.corr()\n",
    "sns.heatmap(corr,cmap=\"YlGnBu\", linewidths=.5)"
   ]
  },
  {
   "cell_type": "code",
   "execution_count": null,
   "id": "9a1f33ba",
   "metadata": {},
   "outputs": [],
   "source": [
    "independent_values = df.drop(['GHI','Year','Day','Month','Hour','Minute'], axis = 1)\n",
    "target =df['GHI']"
   ]
  },
  {
   "cell_type": "code",
   "execution_count": null,
   "id": "a3c3d9d0",
   "metadata": {},
   "outputs": [],
   "source": [
    "from sklearn.model_selection import train_test_split\n",
    "x_train,x_test,y_train,y_test = train_test_split(independent_values,target,test_size = 0.33)"
   ]
  },
  {
   "cell_type": "code",
   "execution_count": null,
   "id": "2d00cb21",
   "metadata": {},
   "outputs": [],
   "source": [
    "import statsmodels.api as sm"
   ]
  },
  {
   "cell_type": "code",
   "execution_count": null,
   "id": "16ef9616",
   "metadata": {},
   "outputs": [],
   "source": [
    "x_train_sm = sm.add_constant(x_train)"
   ]
  },
  {
   "cell_type": "code",
   "execution_count": null,
   "id": "9ec71dba",
   "metadata": {},
   "outputs": [],
   "source": [
    "lr=sm.OLS(y_train,x_train_sm).fit()"
   ]
  },
  {
   "cell_type": "code",
   "execution_count": null,
   "id": "45635649",
   "metadata": {},
   "outputs": [
    {
     "data": {
      "text/plain": [
       "<statsmodels.regression.linear_model.RegressionResultsWrapper at 0x1e4d1a07ca0>"
      ]
     },
     "execution_count": 60,
     "metadata": {},
     "output_type": "execute_result"
    }
   ],
   "source": [
    "lr"
   ]
  },
  {
   "cell_type": "code",
   "execution_count": null,
   "id": "48164e3a",
   "metadata": {},
   "outputs": [
    {
     "name": "stdout",
     "output_type": "stream",
     "text": [
      "                            OLS Regression Results                            \n",
      "==============================================================================\n",
      "Dep. Variable:                    GHI   R-squared:                       0.967\n",
      "Model:                            OLS   Adj. R-squared:                  0.967\n",
      "Method:                 Least Squares   F-statistic:                     4049.\n",
      "Date:                Tue, 10 May 2022   Prob (F-statistic):               0.00\n",
      "Time:                        14:21:50   Log-Likelihood:                -15574.\n",
      "No. Observations:                2900   AIC:                         3.119e+04\n",
      "Df Residuals:                    2878   BIC:                         3.132e+04\n",
      "Df Model:                          21                                         \n",
      "Covariance Type:            nonrobust                                         \n",
      "======================================================================================\n",
      "                         coef    std err          t      P>|t|      [0.025      0.975]\n",
      "--------------------------------------------------------------------------------------\n",
      "const               -172.7953    271.829     -0.636      0.525    -705.794     360.203\n",
      "Temperature           15.4916      2.266      6.837      0.000      11.049      19.934\n",
      "Clearsky DHI          -0.6727      0.038    -17.504      0.000      -0.748      -0.597\n",
      "Clearsky DNI          -0.3347      0.014    -24.626      0.000      -0.361      -0.308\n",
      "Clearsky GHI           0.6989      0.043     16.306      0.000       0.615       0.783\n",
      "Cloud Type             3.8761      0.650      5.965      0.000       2.602       5.150\n",
      "Dew Point            -17.2906      2.373     -7.287      0.000     -21.943     -12.638\n",
      "DHI                    0.6764      0.028     24.261      0.000       0.622       0.731\n",
      "DNI                    0.4942      0.040     12.399      0.000       0.416       0.572\n",
      "Fill Flag             12.9741      1.227     10.570      0.000      10.567      15.381\n",
      "Ozone                -74.0143     39.297     -1.883      0.060    -151.067       3.038\n",
      "Relative Humidity      3.4664      0.564      6.148      0.000       2.361       4.572\n",
      "Solar Zenith Angle    -0.1270      0.571     -0.222      0.824      -1.247       0.993\n",
      "Surface Albedo        54.1858      7.691      7.045      0.000      39.105      69.266\n",
      "Pressure              -0.1326      0.241     -0.550      0.582      -0.605       0.340\n",
      "Precipitable Water     5.0881      2.711      1.877      0.061      -0.227      10.403\n",
      "Wind Direction        -0.0317      0.010     -3.079      0.002      -0.052      -0.012\n",
      "Wind Speed            -1.3685      0.655     -2.089      0.037      -2.653      -0.084\n",
      "cloudcover            -0.1401      0.045     -3.106      0.002      -0.229      -0.052\n",
      "DHI_log              -42.9646     20.080     -2.140      0.032     -82.337      -3.592\n",
      "GHI_log               44.7696     19.512      2.294      0.022       6.510      83.029\n",
      "cloud_cover_log        1.0601      0.181      5.862      0.000       0.705       1.415\n",
      "==============================================================================\n",
      "Omnibus:                      271.456   Durbin-Watson:                   2.000\n",
      "Prob(Omnibus):                  0.000   Jarque-Bera (JB):              431.098\n",
      "Skew:                          -0.688   Prob(JB):                     2.45e-94\n",
      "Kurtosis:                       4.294   Cond. No.                     3.80e+05\n",
      "==============================================================================\n",
      "\n",
      "Notes:\n",
      "[1] Standard Errors assume that the covariance matrix of the errors is correctly specified.\n",
      "[2] The condition number is large, 3.8e+05. This might indicate that there are\n",
      "strong multicollinearity or other numerical problems.\n"
     ]
    }
   ],
   "source": [
    "print(lr.summary())"
   ]
  },
  {
   "cell_type": "code",
   "execution_count": null,
   "id": "af1d1c6f",
   "metadata": {},
   "outputs": [],
   "source": [
    "x_train,x_test,y_train,y_test = train_test_split(independent_values,target,test_size = 0.2)"
   ]
  },
  {
   "cell_type": "code",
   "execution_count": null,
   "id": "4dc0d5dc",
   "metadata": {},
   "outputs": [
    {
     "name": "stdout",
     "output_type": "stream",
     "text": [
      "                            OLS Regression Results                            \n",
      "==============================================================================\n",
      "Dep. Variable:                    GHI   R-squared:                       0.968\n",
      "Model:                            OLS   Adj. R-squared:                  0.968\n",
      "Method:                 Least Squares   F-statistic:                     4944.\n",
      "Date:                Tue, 10 May 2022   Prob (F-statistic):               0.00\n",
      "Time:                        14:22:42   Log-Likelihood:                -18553.\n",
      "No. Observations:                3463   AIC:                         3.715e+04\n",
      "Df Residuals:                    3441   BIC:                         3.728e+04\n",
      "Df Model:                          21                                         \n",
      "Covariance Type:            nonrobust                                         \n",
      "======================================================================================\n",
      "                         coef    std err          t      P>|t|      [0.025      0.975]\n",
      "--------------------------------------------------------------------------------------\n",
      "const               -217.8877    245.299     -0.888      0.374    -698.834     263.058\n",
      "Temperature           16.6368      2.193      7.586      0.000      12.337      20.937\n",
      "Clearsky DHI          -0.6599      0.035    -18.905      0.000      -0.728      -0.591\n",
      "Clearsky DNI          -0.3151      0.012    -25.717      0.000      -0.339      -0.291\n",
      "Clearsky GHI           0.6330      0.039     16.223      0.000       0.556       0.709\n",
      "Cloud Type             4.2161      0.598      7.051      0.000       3.044       5.388\n",
      "Dew Point            -17.9751      2.294     -7.834      0.000     -22.474     -13.477\n",
      "DHI                    0.6756      0.025     26.781      0.000       0.626       0.725\n",
      "DNI                    0.5124      0.036     14.098      0.000       0.441       0.584\n",
      "Fill Flag             11.4980      1.089     10.556      0.000       9.362      13.634\n",
      "Ozone                -53.1012     35.344     -1.502      0.133    -122.399      16.197\n",
      "Relative Humidity      3.7884      0.541      7.000      0.000       2.727       4.850\n",
      "Solar Zenith Angle    -0.9589      0.522     -1.837      0.066      -1.983       0.065\n",
      "Surface Albedo        54.6717      6.820      8.017      0.000      41.301      68.042\n",
      "Pressure              -0.0499      0.216     -0.231      0.817      -0.474       0.374\n",
      "Precipitable Water     3.4200      2.474      1.382      0.167      -1.431       8.271\n",
      "Wind Direction        -0.0248      0.009     -2.686      0.007      -0.043      -0.007\n",
      "Wind Speed            -2.3838      0.586     -4.071      0.000      -3.532      -1.236\n",
      "cloudcover            -0.1112      0.041     -2.687      0.007      -0.192      -0.030\n",
      "DHI_log              -37.4503     18.327     -2.043      0.041     -73.384      -1.517\n",
      "GHI_log               36.9223     17.794      2.075      0.038       2.035      71.810\n",
      "cloud_cover_log        1.1558      0.166      6.964      0.000       0.830       1.481\n",
      "==============================================================================\n",
      "Omnibus:                      352.294   Durbin-Watson:                   2.017\n",
      "Prob(Omnibus):                  0.000   Jarque-Bera (JB):              576.569\n",
      "Skew:                          -0.725   Prob(JB):                    6.30e-126\n",
      "Kurtosis:                       4.376   Cond. No.                     3.81e+05\n",
      "==============================================================================\n",
      "\n",
      "Notes:\n",
      "[1] Standard Errors assume that the covariance matrix of the errors is correctly specified.\n",
      "[2] The condition number is large, 3.81e+05. This might indicate that there are\n",
      "strong multicollinearity or other numerical problems.\n"
     ]
    }
   ],
   "source": [
    "x_train_sm = sm.add_constant(x_train)\n",
    "lr=sm.OLS(y_train,x_train_sm).fit()\n",
    "print(lr.summary())"
   ]
  },
  {
   "cell_type": "code",
   "execution_count": null,
   "id": "6471870b",
   "metadata": {},
   "outputs": [],
   "source": []
  }
 ],
 "metadata": {
  "kernelspec": {
   "display_name": "Python 3",
   "language": "python",
   "name": "python3"
  },
  "language_info": {
   "codemirror_mode": {
    "name": "ipython",
    "version": 3
   },
   "file_extension": ".py",
   "mimetype": "text/x-python",
   "name": "python",
   "nbconvert_exporter": "python",
   "pygments_lexer": "ipython3",
   "version": "3.8.10"
  }
 },
 "nbformat": 4,
 "nbformat_minor": 5
}
